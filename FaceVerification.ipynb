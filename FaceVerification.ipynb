{
 "cells": [
  {
   "cell_type": "code",
   "execution_count": 2,
   "metadata": {},
   "outputs": [],
   "source": [
    "import cv2\n",
    "import os\n",
    "import random\n",
    "import numpy as np\n",
    "import matplotlib.pyplot as plt"
   ]
  },
  {
   "cell_type": "code",
   "execution_count": 5,
   "metadata": {},
   "outputs": [],
   "source": [
    "from tensorflow.keras.models import Model\n",
    "from tensorflow.keras.layers import Layer, Conv2D, Dense, MaxPooling2D, Input, Flatten\n",
    "import tensorflow as tf"
   ]
  },
  {
   "cell_type": "code",
   "execution_count": 3,
   "metadata": {},
   "outputs": [],
   "source": [
    "gpus = tf.config.experimental.list_physical_devices('GPU')\n",
    "for gpu in gpus: \n",
    "    tf.config.experimental.set_memory_growth(gpu, True)"
   ]
  },
  {
   "cell_type": "code",
   "execution_count": 4,
   "metadata": {},
   "outputs": [],
   "source": [
    "POS_PATH = os.path.join('data', 'positive')\n",
    "NEG_PATH = os.path.join('data', 'negative')\n",
    "ANC_PATH = os.path.join('data', 'anchor')"
   ]
  },
  {
   "cell_type": "code",
   "execution_count": null,
   "metadata": {},
   "outputs": [],
   "source": [
    "os.makedirs(POS_PATH)\n",
    "os.makedirs(NEG_PATH)\n",
    "os.makedirs(ANC_PATH)"
   ]
  },
  {
   "cell_type": "code",
   "execution_count": null,
   "metadata": {},
   "outputs": [],
   "source": [
    "!tar -xf lfw.tgz"
   ]
  },
  {
   "cell_type": "code",
   "execution_count": null,
   "metadata": {},
   "outputs": [],
   "source": [
    "for directory in os.listdir('lfw'):\n",
    "    for file in os.listdir(os.path.join('lfw', directory)):\n",
    "        EX_PATH = os.path.join('lfw', directory, file)\n",
    "        NEW_PATH = os.path.join(NEG_PATH, file)\n",
    "        os.replace(EX_PATH, NEW_PATH)"
   ]
  },
  {
   "cell_type": "code",
   "execution_count": null,
   "metadata": {},
   "outputs": [],
   "source": [
    "cap = cv2.VideoCapture(0)\n",
    "while cap.isOpened(): \n",
    "    ret, frame = cap.read()\n",
    "    cv2.imshow(\"Image Collection\",frame)\n",
    "    if cv2.waitKey(1) & 0XFF == ord('q'):\n",
    "        break\n",
    "cap.release()\n",
    "# Close the image show frame\n",
    "cv2.destroyAllWindows()"
   ]
  },
  {
   "cell_type": "code",
   "execution_count": null,
   "metadata": {},
   "outputs": [],
   "source": [
    "plt.imshow(frame[60:60+350,200:200+350, :])"
   ]
  },
  {
   "cell_type": "code",
   "execution_count": null,
   "metadata": {},
   "outputs": [],
   "source": [
    "# Import uuid library to generate unique image names\n",
    "import uuid"
   ]
  },
  {
   "cell_type": "code",
   "execution_count": null,
   "metadata": {},
   "outputs": [],
   "source": [
    "cap = cv2.VideoCapture(0)\n",
    "while cap.isOpened(): \n",
    "    ret, frame = cap.read()\n",
    "   \n",
    "    # Cut down frame to 250x250px\n",
    "    frame = frame[60:60+350,200:200+350, :]\n",
    "    \n",
    "    # Collect anchors \n",
    "    if cv2.waitKey(1) & 0XFF == ord('a'):\n",
    "        # Create the unique file path q\n",
    "        imgname = os.path.join(ANC_PATH, '{}.jpg'.format(uuid.uuid1()))\n",
    "        # Write out anchor image\n",
    "        cv2.imwrite(imgname, frame)\n",
    "    \n",
    "    # Collect positives\n",
    "    if cv2.waitKey(1) & 0XFF == ord('p'):\n",
    "        # Create the unique file path \n",
    "        imgname = os.path.join(POS_PATH, '{}.jpg'.format(uuid.uuid1()))\n",
    "        # Write out positive image\n",
    "        cv2.imwrite(imgname, frame)\n",
    "    \n",
    "    # Show image back to screen\n",
    "    cv2.imshow('Image Collection', frame)\n",
    "    \n",
    "    # Breaking gracefulcv2.waitKey(1) & 0XFF == ord('q'):\n",
    "        break\n",
    "        \n",
    "# Release the webcam\n",
    "cap.release()\n",
    "# Close the image show frame\n",
    "cv2.destroyAllWindows()"
   ]
  },
  {
   "cell_type": "code",
   "execution_count": 6,
   "metadata": {},
   "outputs": [],
   "source": [
    "#Pipelining\n",
    "anchor = tf.data.Dataset.list_files(ANC_PATH+'\\*.jpg').take(300)\n",
    "positive = tf.data.Dataset.list_files(POS_PATH+'\\*.jpg').take(300)\n",
    "negative = tf.data.Dataset.list_files(NEG_PATH+'\\*.jpg').take(300)\n"
   ]
  },
  {
   "cell_type": "code",
   "execution_count": 7,
   "metadata": {},
   "outputs": [],
   "source": [
    "dir_test = anchor.as_numpy_iterator()"
   ]
  },
  {
   "cell_type": "code",
   "execution_count": 8,
   "metadata": {},
   "outputs": [
    {
     "name": "stdout",
     "output_type": "stream",
     "text": [
      "b'data\\\\anchor\\\\89b699d8-efdf-11ed-a61f-dc215cabee6e.jpg'\n"
     ]
    }
   ],
   "source": [
    "print(dir_test.next())"
   ]
  },
  {
   "cell_type": "code",
   "execution_count": 9,
   "metadata": {},
   "outputs": [],
   "source": [
    "def preprocess(file_path):\n",
    "     # Read in image from file path\n",
    "    byte_img = tf.io.read_file(file_path)\n",
    "    # Load in the image \n",
    "    img = tf.io.decode_jpeg(byte_img)\n",
    "    \n",
    "    # Preprocessing steps - resizing the image to be 100x100x3\n",
    "    img = tf.image.resize(img, (100,100))\n",
    "    # Scale image to be between 0 and 1 \n",
    "    img = img / 255.0\n",
    "    \n",
    "    # Return image\n",
    "    return img"
   ]
  },
  {
   "cell_type": "code",
   "execution_count": 10,
   "metadata": {},
   "outputs": [],
   "source": [
    "img =preprocess('data\\\\anchor\\\\b8627f7e-efe3-11ed-8382-dc215cabee6e.jpg'\n",
    ")"
   ]
  },
  {
   "cell_type": "code",
   "execution_count": 11,
   "metadata": {},
   "outputs": [
    {
     "data": {
      "text/plain": [
       "<tf.Tensor: shape=(100, 100, 3), dtype=float32, numpy=\n",
       "array([[[0.9882353 , 0.98039216, 0.99215686],\n",
       "        [0.9882353 , 0.98039216, 0.99215686],\n",
       "        [0.99607843, 0.9764706 , 0.99215686],\n",
       "        ...,\n",
       "        [0.63235295, 0.577451  , 0.53431374],\n",
       "        [0.6252451 , 0.57034314, 0.5272059 ],\n",
       "        [0.62916666, 0.5742647 , 0.53112745]],\n",
       "\n",
       "       [[0.9882353 , 0.98039216, 0.9843137 ],\n",
       "        [0.9882353 , 0.98039216, 0.9843137 ],\n",
       "        [0.99607843, 0.98039216, 0.9843137 ],\n",
       "        ...,\n",
       "        [0.6480392 , 0.59313726, 0.55      ],\n",
       "        [0.6453431 , 0.59044117, 0.5473039 ],\n",
       "        [0.64509803, 0.5901961 , 0.5470588 ]],\n",
       "\n",
       "       [[0.9882353 , 0.98039216, 0.9843137 ],\n",
       "        [0.9882353 , 0.98039216, 0.9843137 ],\n",
       "        [0.9882353 , 0.98039216, 0.9843137 ],\n",
       "        ...,\n",
       "        [0.6598039 , 0.60490197, 0.5617647 ],\n",
       "        [0.65367645, 0.60269606, 0.56740195],\n",
       "        [0.654902  , 0.6039216 , 0.5686275 ]],\n",
       "\n",
       "       ...,\n",
       "\n",
       "       [[0.5372549 , 0.2254902 , 0.3480392 ],\n",
       "        [0.47965688, 0.18308823, 0.3009804 ],\n",
       "        [0.45196077, 0.15759803, 0.26519608],\n",
       "        ...,\n",
       "        [0.7058824 , 0.65882355, 0.6039216 ],\n",
       "        [0.69779414, 0.6507353 , 0.59583336],\n",
       "        [0.68333334, 0.6480392 , 0.5892157 ]],\n",
       "\n",
       "       [[0.5254902 , 0.23995098, 0.35343137],\n",
       "        [0.43259802, 0.16127451, 0.27107844],\n",
       "        [0.41862744, 0.14411765, 0.24607843],\n",
       "        ...,\n",
       "        [0.6987745 , 0.6517157 , 0.59681374],\n",
       "        [0.6882353 , 0.65294117, 0.59411764],\n",
       "        [0.6784314 , 0.6431373 , 0.58431375]],\n",
       "\n",
       "       [[0.47867647, 0.19240196, 0.29828432],\n",
       "        [0.41960785, 0.15294118, 0.2509804 ],\n",
       "        [0.39338234, 0.13627452, 0.22328432],\n",
       "        ...,\n",
       "        [0.69411767, 0.64705884, 0.5921569 ],\n",
       "        [0.68921566, 0.64215684, 0.5872549 ],\n",
       "        [0.6813725 , 0.6372549 , 0.5754902 ]]], dtype=float32)>"
      ]
     },
     "execution_count": 11,
     "metadata": {},
     "output_type": "execute_result"
    }
   ],
   "source": [
    "img"
   ]
  },
  {
   "cell_type": "code",
   "execution_count": 12,
   "metadata": {},
   "outputs": [
    {
     "data": {
      "text/plain": [
       "<matplotlib.image.AxesImage at 0x1b3f5eb5be0>"
      ]
     },
     "execution_count": 12,
     "metadata": {},
     "output_type": "execute_result"
    },
    {
     "data": {
      "image/png": "[encoded data removed]",
      "text/plain": [
       "<Figure size 432x288 with 1 Axes>"
      ]
     },
     "metadata": {
      "needs_background": "light"
     },
     "output_type": "display_data"
    }
   ],
   "source": [
    "plt.imshow(img)"
   ]
  },
  {
   "cell_type": "code",
   "execution_count": 13,
   "metadata": {},
   "outputs": [],
   "source": [
    "positives = tf.data.Dataset.zip((anchor, positive, tf.data.Dataset.from_tensor_slices(tf.ones(len(anchor)))))\n",
    "negatives = tf.data.Dataset.zip((anchor, negative, tf.data.Dataset.from_tensor_slices(tf.zeros(len(anchor)))))\n",
    "data = positives.concatenate(negatives)\n",
    "\n"
   ]
  },
  {
   "cell_type": "code",
   "execution_count": 14,
   "metadata": {},
   "outputs": [],
   "source": [
    "samples = data.as_numpy_iterator()"
   ]
  },
  {
   "cell_type": "code",
   "execution_count": 15,
   "metadata": {},
   "outputs": [],
   "source": [
    "exampple=samples.next()"
   ]
  },
  {
   "cell_type": "code",
   "execution_count": 16,
   "metadata": {},
   "outputs": [],
   "source": [
    "def preprocessDataset(img,val_img,label):\n",
    "    return (preprocess(img),preprocess(val_img),label)"
   ]
  },
  {
   "cell_type": "code",
   "execution_count": 17,
   "metadata": {},
   "outputs": [
    {
     "data": {
      "text/plain": [
       "<matplotlib.image.AxesImage at 0x1b3f5f73208>"
      ]
     },
     "execution_count": 17,
     "metadata": {},
     "output_type": "execute_result"
    },
    {
     "data": {
      "image/png": "[encoded data removed]",
      "text/plain": [
       "<Figure size 432x288 with 1 Axes>"
      ]
     },
     "metadata": {
      "needs_background": "light"
     },
     "output_type": "display_data"
    }
   ],
   "source": [
    "res = preprocessDataset(*exampple)\n",
    "plt.imshow(res[1])"
   ]
  },
  {
   "cell_type": "code",
   "execution_count": 18,
   "metadata": {},
   "outputs": [
    {
     "data": {
      "text/plain": [
       "<matplotlib.image.AxesImage at 0x1b3f5fd1160>"
      ]
     },
     "execution_count": 18,
     "metadata": {},
     "output_type": "execute_result"
    },
    {
     "data": {
      "image/png": "[encoded data removed]",
      "text/plain": [
       "<Figure size 432x288 with 1 Axes>"
      ]
     },
     "metadata": {
      "needs_background": "light"
     },
     "output_type": "display_data"
    }
   ],
   "source": [
    "plt.imshow(res[0])"
   ]
  },
  {
   "cell_type": "code",
   "execution_count": 19,
   "metadata": {},
   "outputs": [],
   "source": [
    "# Build dataloader pipeline\n",
    "data = data.map(preprocessDataset)\n",
    "data = data.cache()\n",
    "data = data.shuffle(buffer_size=1024)\n",
    "# Training partition\n",
    "train_data = data.take(round(len(data)*.7))\n",
    "train_data = train_data.batch(16)\n",
    "train_data = train_data.prefetch(8)\n",
    "# Testing partition\n",
    "test_data = data.skip(round(len(data)*.7))\n",
    "test_data = test_data.take(round(len(data)*.3))\n",
    "test_data = test_data.batch(16)\n",
    "test_data = test_data.prefetch(8)"
   ]
  },
  {
   "cell_type": "code",
   "execution_count": 20,
   "metadata": {},
   "outputs": [],
   "source": [
    "#Creating Model\n",
    "\n",
    "def make_embedding(): \n",
    "    inp = Input(shape=(100,100,3), name='input_image')\n",
    "    \n",
    "    # First block\n",
    "    c1 = Conv2D(64, (10,10), activation='relu')(inp)\n",
    "    m1 = MaxPooling2D(64, (2,2), padding='same')(c1)\n",
    "    \n",
    "    # Second block\n",
    "    c2 = Conv2D(128, (7,7), activation='relu')(m1)\n",
    "    m2 = MaxPooling2D(64, (2,2), padding='same')(c2)\n",
    "    \n",
    "    # Third block \n",
    "    c3 = Conv2D(128, (4,4), activation='relu')(m2)\n",
    "    m3 = MaxPooling2D(64, (2,2), padding='same')(c3)\n",
    "    \n",
    "    # Final embedding block\n",
    "    c4 = Conv2D(256, (4,4), activation='relu')(m3)\n",
    "    f1 = Flatten()(c4)\n",
    "    d1 = Dense(4096, activation='sigmoid')(f1)\n",
    "    \n",
    "    \n",
    "    return Model(inputs=[inp], outputs=[d1], name='embedding')"
   ]
  },
  {
   "cell_type": "code",
   "execution_count": 21,
   "metadata": {},
   "outputs": [
    {
     "name": "stdout",
     "output_type": "stream",
     "text": [
      "Model: \"embedding\"\n",
      "_________________________________________________________________\n",
      " Layer (type)                Output Shape              Param #   \n",
      "=================================================================\n",
      " input_image (InputLayer)    [(None, 100, 100, 3)]     0         \n",
      "                                                                 \n",
      " conv2d (Conv2D)             (None, 91, 91, 64)        19264     \n",
      "                                                                 \n",
      " max_pooling2d (MaxPooling2D  (None, 46, 46, 64)       0         \n",
      " )                                                               \n",
      "                                                                 \n",
      " conv2d_1 (Conv2D)           (None, 40, 40, 128)       401536    \n",
      "                                                                 \n",
      " max_pooling2d_1 (MaxPooling  (None, 20, 20, 128)      0         \n",
      " 2D)                                                             \n",
      "                                                                 \n",
      " conv2d_2 (Conv2D)           (None, 17, 17, 128)       262272    \n",
      "                                                                 \n",
      " max_pooling2d_2 (MaxPooling  (None, 9, 9, 128)        0         \n",
      " 2D)                                                             \n",
      "                                                                 \n",
      " conv2d_3 (Conv2D)           (None, 6, 6, 256)         524544    \n",
      "                                                                 \n",
      " flatten (Flatten)           (None, 9216)              0         \n",
      "                                                                 \n",
      " dense (Dense)               (None, 4096)              37752832  \n",
      "                                                                 \n",
      "=================================================================\n",
      "Total params: 38,960,448\n",
      "Trainable params: 38,960,448\n",
      "Non-trainable params: 0\n",
      "_________________________________________________________________\n"
     ]
    }
   ],
   "source": [
    "embedding = make_embedding()\n",
    "embedding.summary()"
   ]
  },
  {
   "cell_type": "code",
   "execution_count": 22,
   "metadata": {},
   "outputs": [],
   "source": [
    "class L1Dist(Layer):\n",
    "    \n",
    "    # Init method - inheritance\n",
    "    def __init__(self, **kwargs):\n",
    "        super().__init__()\n",
    "       \n",
    "    # Magic happens here - similarity calculation\n",
    "    def call(self, input_embedding, validation_embedding):\n",
    "        return tf.math.abs(input_embedding - validation_embedding)"
   ]
  },
  {
   "cell_type": "code",
   "execution_count": 23,
   "metadata": {},
   "outputs": [
    {
     "data": {
      "text/plain": [
       "<__main__.L1Dist at 0x1b3f5feccf8>"
      ]
     },
     "execution_count": 23,
     "metadata": {},
     "output_type": "execute_result"
    }
   ],
   "source": [
    "l1 = L1Dist()\n",
    "l1"
   ]
  },
  {
   "cell_type": "code",
   "execution_count": 24,
   "metadata": {},
   "outputs": [
    {
     "name": "stdout",
     "output_type": "stream",
     "text": [
      "Model: \"SiameseNetwork\"\n",
      "__________________________________________________________________________________________________\n",
      " Layer (type)                   Output Shape         Param #     Connected to                     \n",
      "==================================================================================================\n",
      " input_img (InputLayer)         [(None, 100, 100, 3  0           []                               \n",
      "                                )]                                                                \n",
      "                                                                                                  \n",
      " validation_img (InputLayer)    [(None, 100, 100, 3  0           []                               \n",
      "                                )]                                                                \n",
      "                                                                                                  \n",
      " embedding (Functional)         (None, 4096)         38960448    ['input_img[0][0]',              \n",
      "                                                                  'validation_img[0][0]']         \n",
      "                                                                                                  \n",
      " l1_dist_1 (L1Dist)             (None, 4096)         0           ['embedding[0][0]',              \n",
      "                                                                  'embedding[1][0]']              \n",
      "                                                                                                  \n",
      " dense_1 (Dense)                (None, 1)            4097        ['l1_dist_1[0][0]']              \n",
      "                                                                                                  \n",
      "==================================================================================================\n",
      "Total params: 38,964,545\n",
      "Trainable params: 38,964,545\n",
      "Non-trainable params: 0\n",
      "__________________________________________________________________________________________________\n"
     ]
    }
   ],
   "source": [
    "input_image = Input(name='input_img', shape=(100,100,3))\n",
    "validation_image = Input(name='validation_img', shape=(100,100,3))\n",
    "inp_embedding = embedding(input_image)\n",
    "val_embedding = embedding(validation_image)\n",
    "siamese_layer = L1Dist()\n",
    "distances = siamese_layer(inp_embedding, val_embedding)\n",
    "classifier = Dense(1, activation='sigmoid')(distances)\n",
    "siamese_network = Model(inputs=[input_image, validation_image], outputs=classifier, name='SiameseNetwork')\n",
    "siamese_network.summary()"
   ]
  },
  {
   "cell_type": "code",
   "execution_count": 25,
   "metadata": {},
   "outputs": [],
   "source": [
    "def make_siamese_model(): \n",
    "    \n",
    "    # Anchor image input in the network\n",
    "    input_image = Input(name='input_img', shape=(100,100,3))\n",
    "    \n",
    "    # Validation image in the network \n",
    "    validation_image = Input(name='validation_img', shape=(100,100,3))\n",
    "    \n",
    "    # Combine siamese distance components\n",
    "    siamese_layer = L1Dist()\n",
    "    siamese_layer._name = 'distance'\n",
    "    distances = siamese_layer(embedding(input_image), embedding(validation_image))\n",
    "    \n",
    "    # Classification layer \n",
    "    classifier = Dense(1, activation='sigmoid')(distances)\n",
    "    \n",
    "    return Model(inputs=[input_image, validation_image], outputs=classifier, name='SiameseNetwork')"
   ]
  },
  {
   "cell_type": "code",
   "execution_count": 26,
   "metadata": {},
   "outputs": [
    {
     "name": "stdout",
     "output_type": "stream",
     "text": [
      "Model: \"SiameseNetwork\"\n",
      "__________________________________________________________________________________________________\n",
      " Layer (type)                   Output Shape         Param #     Connected to                     \n",
      "==================================================================================================\n",
      " input_img (InputLayer)         [(None, 100, 100, 3  0           []                               \n",
      "                                )]                                                                \n",
      "                                                                                                  \n",
      " validation_img (InputLayer)    [(None, 100, 100, 3  0           []                               \n",
      "                                )]                                                                \n",
      "                                                                                                  \n",
      " embedding (Functional)         (None, 4096)         38960448    ['input_img[0][0]',              \n",
      "                                                                  'validation_img[0][0]']         \n",
      "                                                                                                  \n",
      " distance (L1Dist)              (None, 4096)         0           ['embedding[2][0]',              \n",
      "                                                                  'embedding[3][0]']              \n",
      "                                                                                                  \n",
      " dense_2 (Dense)                (None, 1)            4097        ['distance[0][0]']               \n",
      "                                                                                                  \n",
      "==================================================================================================\n",
      "Total params: 38,964,545\n",
      "Trainable params: 38,964,545\n",
      "Non-trainable params: 0\n",
      "__________________________________________________________________________________________________\n"
     ]
    }
   ],
   "source": [
    "siamese_model = make_siamese_model()\n",
    "siamese_model.summary()\n"
   ]
  },
  {
   "cell_type": "code",
   "execution_count": 27,
   "metadata": {},
   "outputs": [],
   "source": [
    "binary_cross_loss=tf.losses.BinaryCrossentropy()"
   ]
  },
  {
   "cell_type": "code",
   "execution_count": 28,
   "metadata": {},
   "outputs": [],
   "source": [
    "opt = tf.keras.optimizers.Adam(1e-4) # learning rate is 1e-4"
   ]
  },
  {
   "cell_type": "code",
   "execution_count": 29,
   "metadata": {},
   "outputs": [],
   "source": [
    "checkpoint_dir = './training_checkpoints'\n",
    "checkpoint_prefix = os.path.join(checkpoint_dir, 'ckpt')\n",
    "checkpoint = tf.train.Checkpoint(opt=opt, siamese_model=siamese_model)"
   ]
  },
  {
   "cell_type": "code",
   "execution_count": 30,
   "metadata": {},
   "outputs": [],
   "source": [
    "@tf.function\n",
    "def train_step(batch):\n",
    "    \n",
    "    # Record all of our operations \n",
    "    with tf.GradientTape() as tape:     \n",
    "        # Get anchor and positive/negative image\n",
    "        X = batch[:2]\n",
    "        # Get label\n",
    "        y = batch[2]\n",
    "        \n",
    "        # Forward pass\n",
    "        yhat = siamese_model(X, training=True)\n",
    "        # Calculate loss\n",
    "        loss = binary_cross_loss(y, yhat)\n",
    "    print(loss)\n",
    "        \n",
    "    # Calculate gradients\n",
    "    grad = tape.gradient(loss, siamese_model.trainable_variables)\n",
    "    \n",
    "    # Calculate updated weights and apply to siamese model\n",
    "    opt.apply_gradients(zip(grad, siamese_model.trainable_variables))\n",
    "    \n",
    "    # Return loss\n",
    "    return loss"
   ]
  },
  {
   "cell_type": "code",
   "execution_count": 31,
   "metadata": {},
   "outputs": [],
   "source": [
    "def train(data, EPOCHS):\n",
    "    # Loop through epochs\n",
    "    for epoch in range(1, EPOCHS+1):\n",
    "        print('\\n Epoch {}/{}'.format(epoch, EPOCHS))\n",
    "        progbar = tf.keras.utils.Progbar(len(data))\n",
    "        \n",
    "        # Loop through each batch\n",
    "        for idx, batch in enumerate(data):\n",
    "            # Run train step here\n",
    "            train_step(batch)\n",
    "            progbar.update(idx+1)\n",
    "        \n",
    "        # Save checkpoints\n",
    "        if epoch % 10 == 0: \n",
    "            checkpoint.save(file_prefix=checkpoint_prefix)"
   ]
  },
  {
   "cell_type": "code",
   "execution_count": 32,
   "metadata": {},
   "outputs": [
    {
     "name": "stdout",
     "output_type": "stream",
     "text": [
      "\n",
      " Epoch 1/40\n",
      "Tensor(\"binary_crossentropy/weighted_loss/value:0\", shape=(), dtype=float32)\n",
      "Tensor(\"binary_crossentropy/weighted_loss/value:0\", shape=(), dtype=float32)\n",
      "26/27 [===========================>..] - ETA: 15sTensor(\"binary_crossentropy/weighted_loss/value:0\", shape=(), dtype=float32)\n",
      "27/27 [==============================] - 411s 15s/step\n",
      "\n",
      " Epoch 2/40\n",
      "27/27 [==============================] - 474s 18s/step\n",
      "\n",
      " Epoch 3/40\n",
      "27/27 [==============================] - 540s 20s/step\n",
      "\n",
      " Epoch 4/40\n",
      "27/27 [==============================] - 423s 16s/step\n",
      "\n",
      " Epoch 5/40\n",
      "27/27 [==============================] - 1062s 40s/step\n",
      "\n",
      " Epoch 6/40\n",
      "27/27 [==============================] - 390s 14s/step\n",
      "\n",
      " Epoch 7/40\n",
      "27/27 [==============================] - 1953s 75s/step\n",
      "\n",
      " Epoch 8/40\n",
      "27/27 [==============================] - 392s 15s/step\n",
      "\n",
      " Epoch 9/40\n",
      "27/27 [==============================] - 1755s 67s/step\n",
      "\n",
      " Epoch 10/40\n",
      "27/27 [==============================] - 385s 14s/step\n",
      "\n",
      " Epoch 11/40\n",
      "27/27 [==============================] - 644s 24s/step\n",
      "\n",
      " Epoch 12/40\n",
      "27/27 [==============================] - 395s 15s/step\n",
      "\n",
      " Epoch 13/40\n",
      "27/27 [==============================] - 410s 15s/step\n",
      "\n",
      " Epoch 14/40\n",
      "27/27 [==============================] - 422s 16s/step\n",
      "\n",
      " Epoch 15/40\n",
      "27/27 [==============================] - 425s 16s/step\n",
      "\n",
      " Epoch 16/40\n",
      "27/27 [==============================] - 433s 16s/step\n",
      "\n",
      " Epoch 17/40\n",
      "27/27 [==============================] - 436s 16s/step\n",
      "\n",
      " Epoch 18/40\n",
      "27/27 [==============================] - 428s 16s/step\n",
      "\n",
      " Epoch 19/40\n",
      "27/27 [==============================] - 419s 15s/step\n",
      "\n",
      " Epoch 20/40\n",
      "27/27 [==============================] - 783s 29s/step\n",
      "\n",
      " Epoch 21/40\n",
      "27/27 [==============================] - 401s 15s/step\n",
      "\n",
      " Epoch 22/40\n",
      "27/27 [==============================] - 410s 15s/step\n",
      "\n",
      " Epoch 23/40\n",
      "27/27 [==============================] - 411s 15s/step\n",
      "\n",
      " Epoch 24/40\n",
      "27/27 [==============================] - 1254s 14s/step\n",
      "\n",
      " Epoch 25/40\n",
      "27/27 [==============================] - 2324s 89s/step\n",
      "\n",
      " Epoch 26/40\n",
      "27/27 [==============================] - 385s 14s/step\n",
      "\n",
      " Epoch 27/40\n",
      "27/27 [==============================] - 10384s 399s/step\n",
      "\n",
      " Epoch 28/40\n",
      "27/27 [==============================] - 603s 23s/step\n",
      "\n",
      " Epoch 29/40\n",
      "27/27 [==============================] - 395s 15s/step\n",
      "\n",
      " Epoch 30/40\n",
      "27/27 [==============================] - 411s 15s/step\n",
      "\n",
      " Epoch 31/40\n",
      "27/27 [==============================] - 430s 16s/step\n",
      "\n",
      " Epoch 32/40\n",
      "27/27 [==============================] - 425s 16s/step\n",
      "\n",
      " Epoch 33/40\n",
      "27/27 [==============================] - 829s 31s/step\n",
      "\n",
      " Epoch 34/40\n",
      "27/27 [==============================] - 416s 15s/step\n",
      "\n",
      " Epoch 35/40\n",
      "27/27 [==============================] - 422s 16s/step\n",
      "\n",
      " Epoch 36/40\n",
      "27/27 [==============================] - 425s 16s/step\n",
      "\n",
      " Epoch 37/40\n",
      "27/27 [==============================] - 745s 28s/step\n",
      "\n",
      " Epoch 38/40\n",
      "27/27 [==============================] - 422s 16s/step\n",
      "\n",
      " Epoch 39/40\n",
      "27/27 [==============================] - 429s 16s/step\n",
      "\n",
      " Epoch 40/40\n",
      "27/27 [==============================] - 430s 16s/step\n"
     ]
    }
   ],
   "source": [
    "EPOCHS = 40\n",
    "train(train_data, EPOCHS)"
   ]
  },
  {
   "cell_type": "code",
   "execution_count": 42,
   "metadata": {},
   "outputs": [],
   "source": [
    "# Import metric calculations\n",
    "from tensorflow.keras.metrics import Precision, Recall, Accuracy"
   ]
  },
  {
   "cell_type": "code",
   "execution_count": 53,
   "metadata": {},
   "outputs": [],
   "source": [
    "test_input, test_val, y_true = test_data.as_numpy_iterator().next()"
   ]
  },
  {
   "cell_type": "code",
   "execution_count": 54,
   "metadata": {},
   "outputs": [
    {
     "name": "stdout",
     "output_type": "stream",
     "text": [
      "1/1 [==============================] - 1s 1s/step\n"
     ]
    },
    {
     "data": {
      "text/plain": [
       "array([[9.9999273e-01],\n",
       "       [8.7439146e-11],\n",
       "       [8.7698110e-13],\n",
       "       [1.0000000e+00],\n",
       "       [2.7949590e-10],\n",
       "       [2.9916439e-06],\n",
       "       [2.5525953e-12],\n",
       "       [3.4251851e-11],\n",
       "       [9.9989188e-01],\n",
       "       [1.0000000e+00],\n",
       "       [1.0000000e+00],\n",
       "       [2.2361905e-06],\n",
       "       [1.0000000e+00],\n",
       "       [7.7704323e-07],\n",
       "       [7.0919555e-12],\n",
       "       [1.0000000e+00]], dtype=float32)"
      ]
     },
     "execution_count": 54,
     "metadata": {},
     "output_type": "execute_result"
    }
   ],
   "source": [
    "y_hat = siamese_model.predict([test_input, test_val])\n",
    "y_hat"
   ]
  },
  {
   "cell_type": "code",
   "execution_count": 55,
   "metadata": {},
   "outputs": [
    {
     "data": {
      "text/plain": [
       "[1, 0, 0, 1, 0, 0, 0, 0, 1, 1, 1, 0, 1, 0, 0, 1]"
      ]
     },
     "execution_count": 55,
     "metadata": {},
     "output_type": "execute_result"
    }
   ],
   "source": [
    "y_hat =[1 if prediction > 0.5 else 0 for prediction in y_hat ]\n",
    "y_hat"
   ]
  },
  {
   "cell_type": "code",
   "execution_count": 56,
   "metadata": {},
   "outputs": [
    {
     "data": {
      "text/plain": [
       "array([1., 0., 0., 1., 0., 0., 0., 0., 1., 1., 1., 0., 1., 0., 0., 1.],\n",
       "      dtype=float32)"
      ]
     },
     "execution_count": 56,
     "metadata": {},
     "output_type": "execute_result"
    }
   ],
   "source": [
    "y_true"
   ]
  },
  {
   "cell_type": "code",
   "execution_count": 57,
   "metadata": {},
   "outputs": [
    {
     "data": {
      "text/plain": [
       "1.0"
      ]
     },
     "execution_count": 57,
     "metadata": {},
     "output_type": "execute_result"
    }
   ],
   "source": [
    "# Creating a metric object \n",
    "m = Recall()\n",
    "\n",
    "# Calculating the recall value \n",
    "m.update_state(y_true, y_hat)\n",
    "\n",
    "# Return Recall Result\n",
    "m.result().numpy()"
   ]
  },
  {
   "cell_type": "code",
   "execution_count": 58,
   "metadata": {},
   "outputs": [
    {
     "data": {
      "text/plain": [
       "1.0"
      ]
     },
     "execution_count": 58,
     "metadata": {},
     "output_type": "execute_result"
    }
   ],
   "source": [
    "# Creating a metric object \n",
    "m = Accuracy()\n",
    "\n",
    "# Calculating the ACCURACY value \n",
    "m.update_state(y_true, y_hat)\n",
    "\n",
    "# Return ACCURACY Result\n",
    "m.result().numpy()"
   ]
  },
  {
   "cell_type": "code",
   "execution_count": 60,
   "metadata": {},
   "outputs": [
    {
     "data": {
      "text/plain": [
       "1.0"
      ]
     },
     "execution_count": 60,
     "metadata": {},
     "output_type": "execute_result"
    }
   ],
   "source": [
    "# Creating a metric object \n",
    "m = Precision()\n",
    "\n",
    "# Calculating the PRECISION value \n",
    "m.update_state(y_true, y_hat)\n",
    "\n",
    "# Return PRECISION Result\n",
    "m.result().numpy()"
   ]
  },
  {
   "cell_type": "code",
   "execution_count": 59,
   "metadata": {},
   "outputs": [
    {
     "data": {
      "image/png": "[encoded data removed]",
      "text/plain": [
       "<Figure size 720x576 with 2 Axes>"
      ]
     },
     "metadata": {
      "needs_background": "light"
     },
     "output_type": "display_data"
    }
   ],
   "source": [
    "# Set plot size \n",
    "plt.figure(figsize=(10,8))\n",
    "\n",
    "# Set first subplot\n",
    "plt.subplot(1,2,1)\n",
    "plt.imshow(test_input[0])\n",
    "\n",
    "# Set second subplot\n",
    "plt.subplot(1,2,2)\n",
    "plt.imshow(test_val[0])\n",
    "\n",
    "# Renders cleanly\n",
    "plt.show()"
   ]
  },
  {
   "cell_type": "code",
   "execution_count": null,
   "metadata": {},
   "outputs": [],
   "source": [
    "# Save weights\n",
    "siamese_model.save('siamesemodel.h5')"
   ]
  },
  {
   "cell_type": "code",
   "execution_count": null,
   "metadata": {},
   "outputs": [],
   "source": [
    "model = tf.keras.models.load_model('siamesemodel.h5', \n",
    "                                   custom_objects={'L1Dist':L1Dist, 'BinaryCrossentropy':tf.losses.BinaryCrossentropy})"
   ]
  },
  {
   "cell_type": "code",
   "execution_count": 61,
   "metadata": {},
   "outputs": [
    {
     "data": {
      "text/plain": [
       "['01b1e39c-efe4-11ed-beaa-dc215cabee6e.jpg',\n",
       " '01d8e706-efe4-11ed-a3f4-dc215cabee6e.jpg',\n",
       " '02afb1e8-efe4-11ed-92bb-dc215cabee6e.jpg',\n",
       " '037cb924-efe4-11ed-9a4c-dc215cabee6e.jpg',\n",
       " '046ec2d8-efe4-11ed-8ace-dc215cabee6e.jpg',\n",
       " '04d75b62-efe4-11ed-9f8d-dc215cabee6e.jpg',\n",
       " '06a4d91c-efe4-11ed-b3a0-dc215cabee6e.jpg',\n",
       " '09b6fe34-efe4-11ed-989b-dc215cabee6e.jpg',\n",
       " '0a26a2c2-efe4-11ed-a1ab-dc215cabee6e.jpg',\n",
       " '0a49f988-efe4-11ed-9782-dc215cabee6e.jpg',\n",
       " '0af975a8-efe4-11ed-884d-dc215cabee6e.jpg',\n",
       " '0b3bac38-efe4-11ed-9e85-dc215cabee6e.jpg',\n",
       " '0b5def06-efe4-11ed-b2a7-dc215cabee6e.jpg',\n",
       " '0b7f9cb4-efe4-11ed-942e-dc215cabee6e.jpg',\n",
       " '0c90d474-efe4-11ed-b77f-dc215cabee6e.jpg',\n",
       " '0cb5a258-efe4-11ed-b7db-dc215cabee6e.jpg',\n",
       " '0e23d3e4-efe4-11ed-8b8a-dc215cabee6e.jpg',\n",
       " '0ec59998-efe4-11ed-83fa-dc215cabee6e.jpg',\n",
       " '0ee70ea4-efe4-11ed-a5d0-dc215cabee6e.jpg',\n",
       " '0f527d0c-efe4-11ed-b379-dc215cabee6e.jpg',\n",
       " '0f9e32e4-efe4-11ed-a2e6-dc215cabee6e.jpg',\n",
       " '0fc30702-efe4-11ed-9004-dc215cabee6e.jpg',\n",
       " '14a86d1e-efe4-11ed-8e41-dc215cabee6e.jpg',\n",
       " '15a0785c-efe4-11ed-8da8-dc215cabee6e.jpg',\n",
       " '16c31e8a-efe4-11ed-ad0e-dc215cabee6e.jpg',\n",
       " '17b59824-efe4-11ed-a0da-dc215cabee6e.jpg',\n",
       " '17d88a52-efe4-11ed-9132-dc215cabee6e.jpg',\n",
       " '1c6aa19c-efe4-11ed-bd84-dc215cabee6e.jpg',\n",
       " '1cf3617a-efe4-11ed-b8ff-dc215cabee6e.jpg',\n",
       " '1d5ec276-efe4-11ed-8ca2-dc215cabee6e.jpg',\n",
       " '1dcce53a-efe4-11ed-b916-dc215cabee6e.jpg',\n",
       " '1f692df6-efe4-11ed-a10f-dc215cabee6e.jpg',\n",
       " '1f7f9f3a-efe4-11ed-85b6-dc215cabee6e.jpg',\n",
       " '1fdec514-efe4-11ed-990a-dc215cabee6e.jpg',\n",
       " '26cfb7fe-efe4-11ed-85ef-dc215cabee6e.jpg',\n",
       " '27fcab68-efe4-11ed-9c33-dc215cabee6e.jpg',\n",
       " '29bc6e26-efe4-11ed-8778-dc215cabee6e.jpg',\n",
       " '2de3ba28-efe4-11ed-97b1-dc215cabee6e.jpg',\n",
       " '2e20eb9c-efe4-11ed-8c58-dc215cabee6e.jpg',\n",
       " '2f85a35c-efe4-11ed-983c-dc215cabee6e.jpg',\n",
       " '31a549b4-efe4-11ed-820d-dc215cabee6e.jpg',\n",
       " '32a5c3de-efe4-11ed-91f9-dc215cabee6e.jpg',\n",
       " '36fed700-efe4-11ed-9d76-dc215cabee6e.jpg',\n",
       " '3b4b19d2-efe4-11ed-98d4-dc215cabee6e.jpg',\n",
       " '3ba550fe-efe4-11ed-840e-dc215cabee6e.jpg',\n",
       " '3e34839c-efe4-11ed-ae21-dc215cabee6e.jpg',\n",
       " '3e543fd8-efe4-11ed-921f-dc215cabee6e.jpg',\n",
       " '3f2af822-efe4-11ed-9bb7-dc215cabee6e.jpg',\n",
       " '3fadc1ee-efe4-11ed-b1d3-dc215cabee6e.jpg',\n",
       " '4a16d3d8-efe4-11ed-8b0a-dc215cabee6e.jpg']"
      ]
     },
     "execution_count": 61,
     "metadata": {},
     "output_type": "execute_result"
    }
   ],
   "source": [
    "os.listdir(os.path.join('Application_data', 'Verification_data'))"
   ]
  },
  {
   "cell_type": "code",
   "execution_count": 62,
   "metadata": {},
   "outputs": [],
   "source": [
    "def verify(model, detection_threshold, verification_threshold):\n",
    "    # Build results array\n",
    "    results = []\n",
    "    for image in os.listdir(os.path.join('Application_data', 'Verification_data')):\n",
    "        input_img = preprocess(os.path.join('Application_data', 'Input_data', 'input_image.jpg'))\n",
    "        validation_img = preprocess(os.path.join('Application_data', 'Verification_data', image))\n",
    "        \n",
    "        # Make Predictions \n",
    "        result = model.predict(list(np.expand_dims([input_img, validation_img], axis=1)))\n",
    "        results.append(result)\n",
    "    \n",
    "    # Detection Threshold: Metric above which a prediciton is considered positive \n",
    "    detection = np.sum(np.array(results) > detection_threshold)\n",
    "    \n",
    "    # Verification Threshold: Proportion of positive predictions / total positive samples \n",
    "    verification = detection / len(os.listdir(os.path.join('Application_data', 'Verification_data'))) \n",
    "    verified = verification > verification_threshold\n",
    "    \n",
    "    return results, verified"
   ]
  },
  {
   "cell_type": "code",
   "execution_count": null,
   "metadata": {},
   "outputs": [],
   "source": []
  },
  {
   "cell_type": "code",
   "execution_count": null,
   "metadata": {},
   "outputs": [],
   "source": [
    "cap = cv2.VideoCapture(0)\n",
    "while cap.isOpened():\n",
    "    ret, frame = cap.read()\n",
    "    frame = frame[60:60+350,200:200+350, :]\n",
    "    \n",
    "    cv2.imshow('Verification', frame)\n",
    "    \n",
    "    # Verification trigger\n",
    "    if cv2.waitKey(10) & 0xFF == ord('v'):\n",
    "        # Save input image to application_data/input_image folder \n",
    "        cv2.imwrite(os.path.join('Application_data', 'Input_data', 'input_image.jpg'), frame)\n",
    "        # Run verification\n",
    "        results, verified = verify(model, 0.9, 0.7)\n",
    "        print(verified)\n",
    "    \n",
    "    if cv2.waitKey(10) & 0xFF == ord('q'):\n",
    "        break\n",
    "cap.release()\n",
    "cv2.destroyAllWindows()"
   ]
  },
  {
   "cell_type": "code",
   "execution_count": null,
   "metadata": {},
   "outputs": [],
   "source": [
    "np.sum(np.squeeze(results)>0.5)\n"
   ]
  },
  {
   "cell_type": "code",
   "execution_count": null,
   "metadata": {},
   "outputs": [],
   "source": [
    "!pip install tensorflow "
   ]
  },
  {
   "cell_type": "code",
   "execution_count": null,
   "metadata": {},
   "outputs": [],
   "source": [
    "!python.exe -m pip install --upgrade pip "
   ]
  },
  {
   "cell_type": "code",
   "execution_count": null,
   "metadata": {},
   "outputs": [],
   "source": [
    "!conda install tensorflow-gpu==2.4.1"
   ]
  },
  {
   "cell_type": "code",
   "execution_count": null,
   "metadata": {},
   "outputs": [],
   "source": [
    "!conda install -c anaconda tensorflow-gpu"
   ]
  }
 ],
 "metadata": {
  "kernelspec": {
   "display_name": "Python 3",
   "language": "python",
   "name": "python3"
  },
  "language_info": {
   "codemirror_mode": {
    "name": "ipython",
    "version": 3
   },
   "file_extension": ".py",
   "mimetype": "text/x-python",
   "name": "python",
   "nbconvert_exporter": "python",
   "pygments_lexer": "ipython3",
   "version": "3.7.0"
  }
 },
 "nbformat": 4,
 "nbformat_minor": 2
}
